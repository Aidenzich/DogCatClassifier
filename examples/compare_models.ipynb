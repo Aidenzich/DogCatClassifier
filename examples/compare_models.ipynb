{
 "cells": [
  {
   "cell_type": "code",
   "execution_count": 1,
   "metadata": {},
   "outputs": [],
   "source": [
    "import torch \n",
    "\n",
    "from torchvision import models\n",
    "import torch.nn as nn\n",
    "\n",
    "from train import test\n",
    "from torchvision.datasets import ImageFolder\n",
    "from dataset import DogCatDataset\n",
    "import torchvision.transforms as transforms \n",
    "from sklearn.model_selection import train_test_split\n",
    "from torch.utils.data import DataLoader"
   ]
  },
  {
   "cell_type": "code",
   "execution_count": 2,
   "metadata": {},
   "outputs": [],
   "source": [
    "device = torch.device(\"cuda:1\" if torch.cuda.is_available() else \"cpu\")"
   ]
  },
  {
   "cell_type": "code",
   "execution_count": 3,
   "metadata": {},
   "outputs": [
    {
     "data": {
      "text/plain": [
       "<All keys matched successfully>"
      ]
     },
     "execution_count": 3,
     "metadata": {},
     "output_type": "execute_result"
    }
   ],
   "source": [
    "# load homework required resnet50\n",
    "model = models.resnet50(pretrained=True)\n",
    "\n",
    "# for finetuning => set requires_grad = False\n",
    "for param in model.parameters():\n",
    "    param.requires_grad = False\n",
    "\n",
    "num_features = model.fc.in_features\n",
    "model.fc = nn.Linear(num_features, 2)\n",
    "model.to(device)\n",
    "\n",
    "PATH = './models/resNet50.model'\n",
    "model.load_state_dict(torch.load(PATH, map_location=torch.device('cpu')))\n"
   ]
  },
  {
   "cell_type": "code",
   "execution_count": 4,
   "metadata": {},
   "outputs": [
    {
     "data": {
      "text/plain": [
       "<All keys matched successfully>"
      ]
     },
     "execution_count": 4,
     "metadata": {},
     "output_type": "execute_result"
    }
   ],
   "source": [
    "# load homework required resnet50\n",
    "re_model = models.resnet50(pretrained=True)\n",
    "\n",
    "# for finetuning => set requires_grad = False\n",
    "for param in re_model.parameters():\n",
    "    param.requires_grad = False\n",
    "\n",
    "num_features = re_model.fc.in_features\n",
    "re_model.fc = nn.Linear(num_features, 2)\n",
    "re_model.to(device)\n",
    "\n",
    "PATH = './models/resNet50_re.model'\n",
    "re_model.load_state_dict(torch.load(PATH, map_location=torch.device('cpu')))"
   ]
  },
  {
   "cell_type": "code",
   "execution_count": 5,
   "metadata": {},
   "outputs": [],
   "source": [
    "criterion = nn.CrossEntropyLoss()"
   ]
  },
  {
   "cell_type": "code",
   "execution_count": 6,
   "metadata": {},
   "outputs": [],
   "source": [
    "dataset = ImageFolder(\"./train/\")\n",
    "train_data, test_data, train_label, test_label = train_test_split(\n",
    "    dataset.imgs, \n",
    "    dataset.targets, \n",
    "    test_size=0.2, \n",
    "    random_state=3048\n",
    ")\n",
    "\n",
    "\n",
    "# use transform to transform the image to a specific formula\n",
    "trans = transforms.Compose([\n",
    "    transforms.Resize((224, 224)), \n",
    "    transforms.ToTensor(),\n",
    "    transforms.Normalize([0.5]*3, [0.5]*3)\n",
    "])\n",
    "\n",
    "\n",
    "train_set = DogCatDataset(train_data, trans)\n",
    "test_set = DogCatDataset(test_data, trans)\n",
    "train_loader = DataLoader(train_set, batch_size=64, shuffle=True)\n",
    "test_loader = DataLoader(test_set, batch_size=64, shuffle=True)"
   ]
  },
  {
   "cell_type": "code",
   "execution_count": 7,
   "metadata": {},
   "outputs": [
    {
     "name": "stdout",
     "output_type": "stream",
     "text": [
      "Average Loss: 3.0417364627055576e-08 Accuracy: 3581/3638 98.43320505772402%\n"
     ]
    }
   ],
   "source": [
    "before_re_acc = test(model, criterion, test_loader, device)"
   ]
  },
  {
   "cell_type": "code",
   "execution_count": 8,
   "metadata": {},
   "outputs": [
    {
     "name": "stdout",
     "output_type": "stream",
     "text": [
      "Average Loss: 9.908014180837199e-05 Accuracy: 3556/3638 97.7460142935679%\n"
     ]
    }
   ],
   "source": [
    "after_re_acc = test(re_model, criterion, test_loader, device)"
   ]
  },
  {
   "cell_type": "code",
   "execution_count": 9,
   "metadata": {},
   "outputs": [],
   "source": [
    "import matplotlib.pyplot as plt"
   ]
  },
  {
   "cell_type": "code",
   "execution_count": 11,
   "metadata": {},
   "outputs": [
    {
     "data": {
      "image/png": "[encoded data removed]",
      "text/plain": [
       "<Figure size 720x576 with 1 Axes>"
      ]
     },
     "metadata": {},
     "output_type": "display_data"
    }
   ],
   "source": [
    "result = {\n",
    "    'before_re_acc': before_re_acc,\n",
    "    'after_re_acc': after_re_acc\n",
    "}\n",
    "keys = list(result.keys())\n",
    "values = list(result.values())\n",
    "plt.style.use('dark_background')\n",
    "fig = plt.figure(figsize = (10, 8))\n",
    "\n",
    "# creating the bar plot\n",
    "plt.bar(keys, values, color ='maroon',\n",
    "        width = 0.4)\n",
    " \n",
    "plt.ylabel(\"Accuracy\")\n",
    "plt.title(\"Random-Rrasing effect comparision example\")\n",
    "plt.show()"
   ]
  }
 ],
 "metadata": {
  "interpreter": {
   "hash": "ee149cd68339c8416affe14113a112101510b58ee8fa9ef7d11a57b8e00fa946"
  },
  "kernelspec": {
   "display_name": "Python 3.9.5 64-bit ('base': conda)",
   "language": "python",
   "name": "python3"
  },
  "language_info": {
   "codemirror_mode": {
    "name": "ipython",
    "version": 3
   },
   "file_extension": ".py",
   "mimetype": "text/x-python",
   "name": "python",
   "nbconvert_exporter": "python",
   "pygments_lexer": "ipython3",
   "version": "3.9.5"
  },
  "orig_nbformat": 4
 },
 "nbformat": 4,
 "nbformat_minor": 2
}
